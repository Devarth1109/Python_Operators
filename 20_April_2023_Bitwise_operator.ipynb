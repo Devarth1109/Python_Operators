{
 "cells": [
  {
   "cell_type": "markdown",
   "id": "b4ca27dc",
   "metadata": {},
   "source": [
    "# Bitwise Operator"
   ]
  },
  {
   "cell_type": "code",
   "execution_count": 7,
   "id": "bb0fe272",
   "metadata": {},
   "outputs": [
    {
     "name": "stdout",
     "output_type": "stream",
     "text": [
      "2\n",
      "3\n"
     ]
    }
   ],
   "source": [
    "\"\"\"bitwise operator:- gives an output through bitwise table \n",
    "1. AND (&) (Sets each bit to 1 if both bits are 1)\n",
    "2. OR (|) (Sets each bit to 1 if only one of two bits is 1)\"\"\"\n",
    "\n",
    "# bitwise table\n",
    "\"\"\"no. 8 4 2 1\n",
    "    0  0 0 0 0\n",
    "    1  0 0 0 1\n",
    "    2  0 0 1 0\n",
    "    3  0 0 1 1\n",
    "    4  0 1 0 0\n",
    "    5  0 1 0 1\n",
    "    6  0 1 1 0\n",
    "    7  0 1 1 1\n",
    "    8  1 0 0 0\n",
    "    9  1 0 0 1\n",
    "    10 1 0 1 0\n",
    "    11 1 0 1 1 \n",
    "    12 1 1 0 0\n",
    "    13 1 1 0 1\n",
    "    14 1 1 1 0 \n",
    "    15 1 1 1 1\"\"\" \n",
    "\n",
    "x = 3\n",
    "y = 2\n",
    "print(x & y) # multiplication in truth table\n",
    "\n",
    "print(x | y) # addition is truth table\n",
    "\n"
   ]
  }
 ],
 "metadata": {
  "kernelspec": {
   "display_name": "Python 3 (ipykernel)",
   "language": "python",
   "name": "python3"
  },
  "language_info": {
   "codemirror_mode": {
    "name": "ipython",
    "version": 3
   },
   "file_extension": ".py",
   "mimetype": "text/x-python",
   "name": "python",
   "nbconvert_exporter": "python",
   "pygments_lexer": "ipython3",
   "version": "3.10.9"
  }
 },
 "nbformat": 4,
 "nbformat_minor": 5
}
