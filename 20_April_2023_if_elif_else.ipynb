{
 "cells": [
  {
   "cell_type": "markdown",
   "id": "4c65dad5",
   "metadata": {},
   "source": [
    "# If_Elif_Else condition"
   ]
  },
  {
   "cell_type": "code",
   "execution_count": 2,
   "id": "ba0297cb",
   "metadata": {},
   "outputs": [
    {
     "name": "stdout",
     "output_type": "stream",
     "text": [
      "you are not eligible for voting...!!!\n"
     ]
    }
   ],
   "source": [
    "# if_else \n",
    "age = 15\n",
    "if age >= 18 :\n",
    "    print(\"yes you Are eligible for voting...!!!\")\n",
    "else :\n",
    "    print(\"you are not eligible for voting...!!!\")"
   ]
  },
  {
   "cell_type": "code",
   "execution_count": 16,
   "id": "823cd862",
   "metadata": {},
   "outputs": [
    {
     "name": "stdout",
     "output_type": "stream",
     "text": [
      "first class\n"
     ]
    }
   ],
   "source": [
    "# if_elif_else\n",
    "marks = 73\n",
    "if marks == 75 :\n",
    "    print(\"very good marks\")\n",
    "    \n",
    "elif marks >= 75 :\n",
    "    print(\"distigntion\")\n",
    "    \n",
    "elif marks >= 50 :\n",
    "    print(\"first class\")\n",
    "    \n",
    "elif marks >= 35 :\n",
    "    print(\"pass\")\n",
    "    \n",
    "else :\n",
    "    print(\"failed\")\n",
    "    "
   ]
  },
  {
   "cell_type": "code",
   "execution_count": 20,
   "id": "7c6cf239",
   "metadata": {},
   "outputs": [
    {
     "name": "stdout",
     "output_type": "stream",
     "text": [
      "best\n"
     ]
    }
   ],
   "source": [
    "# write a program to demonstrate number of <1000 to 4000 and other number specified as wrong number\n",
    "number = 2200\n",
    "if number == 1000 :\n",
    "    print(\"good\")\n",
    "    \n",
    "elif number <= 1000 :\n",
    "    print(\"very good\")\n",
    "    \n",
    "elif number <= 2000 :\n",
    "    print(\"better\")\n",
    "    \n",
    "elif number <= 3000 :\n",
    "    print(\"best\")\n",
    "    \n",
    "elif number <= 4000 :\n",
    "    print(\"much better\")\n",
    "    \n",
    "else :\n",
    "    print(\"use above values!\")"
   ]
  }
 ],
 "metadata": {
  "kernelspec": {
   "display_name": "Python 3 (ipykernel)",
   "language": "python",
   "name": "python3"
  },
  "language_info": {
   "codemirror_mode": {
    "name": "ipython",
    "version": 3
   },
   "file_extension": ".py",
   "mimetype": "text/x-python",
   "name": "python",
   "nbconvert_exporter": "python",
   "pygments_lexer": "ipython3",
   "version": "3.10.9"
  }
 },
 "nbformat": 4,
 "nbformat_minor": 5
}
