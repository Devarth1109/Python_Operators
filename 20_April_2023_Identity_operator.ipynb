{
 "cells": [
  {
   "cell_type": "markdown",
   "id": "cb12c703",
   "metadata": {},
   "source": [
    "# Identity Operator"
   ]
  },
  {
   "cell_type": "code",
   "execution_count": 10,
   "id": "fd6077a7",
   "metadata": {},
   "outputs": [
    {
     "name": "stdout",
     "output_type": "stream",
     "text": [
      "['apple', 'banana', 'mango']\n",
      "['apple', 'banana', 'mango']\n",
      "True\n",
      "True\n",
      "False\n",
      "False\n"
     ]
    }
   ],
   "source": [
    "\"\"\"python identity operator:- return boolean value as an output\n",
    "1. is (it returns true if both variable have same object)\n",
    "2. is not (it returns false if both variable have not same object)\"\"\"\n",
    "\n",
    "x = [\"apple\",\"banana\",\"mango\"]\n",
    "y = [\"apple\",\"banana\",\"mango\"]\n",
    "z = x # z variable takes x value\n",
    "print(x)\n",
    "print(z)\n",
    "\n",
    "print(z is x) # is operator used\n",
    "print(z == x) # comparision operator\n",
    "\n",
    "print(z is y) # is operator used\n",
    "\n",
    "print(z is not x) # is not operator used\n",
    "\n",
    "print(z is not y)"
   ]
  }
 ],
 "metadata": {
  "kernelspec": {
   "display_name": "Python 3 (ipykernel)",
   "language": "python",
   "name": "python3"
  },
  "language_info": {
   "codemirror_mode": {
    "name": "ipython",
    "version": 3
   },
   "file_extension": ".py",
   "mimetype": "text/x-python",
   "name": "python",
   "nbconvert_exporter": "python",
   "pygments_lexer": "ipython3",
   "version": "3.10.9"
  }
 },
 "nbformat": 4,
 "nbformat_minor": 5
}
