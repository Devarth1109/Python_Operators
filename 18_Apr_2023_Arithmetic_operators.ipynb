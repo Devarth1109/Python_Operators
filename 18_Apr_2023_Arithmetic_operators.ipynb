{
 "cells": [
  {
   "cell_type": "markdown",
   "id": "9162f323",
   "metadata": {},
   "source": [
    "# Arithmetic Operator"
   ]
  },
  {
   "cell_type": "code",
   "execution_count": null,
   "id": "e26efd19",
   "metadata": {},
   "outputs": [],
   "source": [
    "\"\"\"arithmetic operators:-\n",
    "1. + (addition)\n",
    "2. - (substraction)\n",
    "3. * (multiplication)\n",
    "4. / (division)\n",
    "5. % (modulo)\n",
    "6. ** (exponentiation)\n",
    "7. // (floor division)\"\"\"\n",
    "\n",
    "x = 2\n",
    "y = 5\n",
    "print(x)\n",
    "print(y)\n",
    "\n",
    "print(x + y)\n",
    "print(x - y)\n",
    "print(x * y)\n",
    "print(x / y)\n",
    "print(x % y)\n",
    "print(x ** y)\n",
    "print(x // y)"
   ]
  }
 ],
 "metadata": {
  "kernelspec": {
   "display_name": "Python 3 (ipykernel)",
   "language": "python",
   "name": "python3"
  },
  "language_info": {
   "codemirror_mode": {
    "name": "ipython",
    "version": 3
   },
   "file_extension": ".py",
   "mimetype": "text/x-python",
   "name": "python",
   "nbconvert_exporter": "python",
   "pygments_lexer": "ipython3",
   "version": "3.10.9"
  }
 },
 "nbformat": 4,
 "nbformat_minor": 5
}
