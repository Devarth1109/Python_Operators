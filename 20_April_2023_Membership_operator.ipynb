{
 "cells": [
  {
   "cell_type": "markdown",
   "id": "f4db719d",
   "metadata": {},
   "source": [
    "# Membership Operator\n"
   ]
  },
  {
   "cell_type": "code",
   "execution_count": 8,
   "id": "bb868844",
   "metadata": {},
   "outputs": [
    {
     "name": "stdout",
     "output_type": "stream",
     "text": [
      "True\n",
      "True\n",
      "False\n",
      "False\n",
      "True\n",
      "False\n",
      "False\n",
      "False\n"
     ]
    }
   ],
   "source": [
    "\"\"\"membership operator:- it gives output in boolean format\n",
    "1. in (if specified value mentioned in object then return true as an output)\n",
    "2. not in (if specified value not mentioned in object then output is false)\"\"\"\n",
    "\n",
    "x = [\"orange\",\"red\",\"blue\"]\n",
    "y = [\"orange\",\"red\",\"blue\"]\n",
    "z = y\n",
    "print(\"orange\" in x)\n",
    "print(\"blue\" in y)\n",
    "print(\"pink\" in x)\n",
    "print(\"red\" not in z)\n",
    "\n",
    "a = [\"audi\",\"BMW\",\"TATA\"]\n",
    "b = [\"RRR\",\"pushpa\",\"KGF\"]\n",
    "c = a\n",
    "d = b\n",
    "\n",
    "print(\"RRR\" in b)\n",
    "print(\"TATA\" in b)\n",
    "print(\"KGF\" in a)\n",
    "print(\"BMW\" in b)"
   ]
  }
 ],
 "metadata": {
  "kernelspec": {
   "display_name": "Python 3 (ipykernel)",
   "language": "python",
   "name": "python3"
  },
  "language_info": {
   "codemirror_mode": {
    "name": "ipython",
    "version": 3
   },
   "file_extension": ".py",
   "mimetype": "text/x-python",
   "name": "python",
   "nbconvert_exporter": "python",
   "pygments_lexer": "ipython3",
   "version": "3.10.9"
  }
 },
 "nbformat": 4,
 "nbformat_minor": 5
}
