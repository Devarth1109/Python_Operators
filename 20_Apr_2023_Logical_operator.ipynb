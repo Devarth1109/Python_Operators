{
 "cells": [
  {
   "cell_type": "markdown",
   "id": "6abad202",
   "metadata": {},
   "source": [
    "# Logical Operator"
   ]
  },
  {
   "cell_type": "code",
   "execution_count": 11,
   "id": "6bdf79ff",
   "metadata": {},
   "outputs": [
    {
     "name": "stdout",
     "output_type": "stream",
     "text": [
      "False\n",
      "True\n",
      "False\n",
      "True\n",
      "False\n"
     ]
    }
   ],
   "source": [
    "\"\"\"logical operator:- it gives output in boolean format\n",
    "1. and operator (if both condition are true then return true)\n",
    "2. or operator  (if a single value is true from both then return true)\n",
    "3. not operator (reverse the result)\"\"\"\n",
    "\n",
    "a = 34\n",
    "b = 6\n",
    "print(a < b and a > b) # and operator\n",
    "\n",
    "x = 34\n",
    "y = 6\n",
    "print(y < x and x > y)\n",
    "\n",
    "a = 33\n",
    "b = 67\n",
    "print(a > b or b < a) # or operator\n",
    "\n",
    "a = 33\n",
    "b = 67\n",
    "print(a < b or b > a)\n",
    "\n",
    "c = 5\n",
    "d = 6\n",
    "print(not(c < d and d > c)) # not operator\n"
   ]
  }
 ],
 "metadata": {
  "kernelspec": {
   "display_name": "Python 3 (ipykernel)",
   "language": "python",
   "name": "python3"
  },
  "language_info": {
   "codemirror_mode": {
    "name": "ipython",
    "version": 3
   },
   "file_extension": ".py",
   "mimetype": "text/x-python",
   "name": "python",
   "nbconvert_exporter": "python",
   "pygments_lexer": "ipython3",
   "version": "3.10.9"
  }
 },
 "nbformat": 4,
 "nbformat_minor": 5
}
