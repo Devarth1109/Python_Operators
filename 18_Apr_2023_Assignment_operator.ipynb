{
 "cells": [
  {
   "cell_type": "markdown",
   "id": "86920e72",
   "metadata": {},
   "source": [
    "# assignment operator"
   ]
  },
  {
   "cell_type": "code",
   "execution_count": 8,
   "id": "cf4254fb",
   "metadata": {},
   "outputs": [
    {
     "name": "stdout",
     "output_type": "stream",
     "text": [
      "37\n",
      "1\n",
      "20\n",
      "0.8333333333333334\n",
      "16\n",
      "3125\n",
      "0\n"
     ]
    }
   ],
   "source": [
    "\"\"\"assignment operators:-\n",
    "1. += (addition with single variable and print it)\n",
    "2. -= (substraction with single variable and print it)\n",
    "3. *= (multiplication with single variable and print it)\n",
    "4. /= (divisiom with single variable and print it)\n",
    "5. //= (floor division with single variable and print it)\n",
    "6. **= (exponentiation with single variable and print it)\n",
    "7. &= (&(and) bitwise operator with single variable and print it)\n",
    "8. |= (|(or) bitwise operator with single variable and print it)\"\"\"\n",
    "\n",
    "# addition\n",
    "x = 34\n",
    "x += 3\n",
    "print(x)\n",
    "\n",
    "# substraction\n",
    "y = 6\n",
    "y -= 5\n",
    "print(y)\n",
    "\n",
    "# multiplication\n",
    "z = 5\n",
    "z *= 4\n",
    "print(z)\n",
    "\n",
    "# division\n",
    "a = 5\n",
    "a /= 6\n",
    "print(a)\n",
    "\n",
    "# floor division\n",
    "b = 67\n",
    "b //=4\n",
    "print(b)\n",
    "\n",
    "# exponentiation\n",
    "c = 5\n",
    "c **= 5\n",
    "print(c)\n",
    "\n",
    "# & bitwise\n",
    "d = 56\n",
    "d &= 5\n",
    "print(d)\n",
    "\n",
    "# | bitwise\n",
    "e = 9\n",
    "e |= 3\n",
    "print(e)"
   ]
  }
 ],
 "metadata": {
  "kernelspec": {
   "display_name": "Python 3 (ipykernel)",
   "language": "python",
   "name": "python3"
  },
  "language_info": {
   "codemirror_mode": {
    "name": "ipython",
    "version": 3
   },
   "file_extension": ".py",
   "mimetype": "text/x-python",
   "name": "python",
   "nbconvert_exporter": "python",
   "pygments_lexer": "ipython3",
   "version": "3.10.9"
  }
 },
 "nbformat": 4,
 "nbformat_minor": 5
}
